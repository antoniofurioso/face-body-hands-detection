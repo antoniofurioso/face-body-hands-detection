{
 "cells": [
  {
   "cell_type": "markdown",
   "metadata": {},
   "source": [
    "## Install and import dependecies"
   ]
  },
  {
   "cell_type": "code",
   "execution_count": 10,
   "metadata": {
    "collapsed": true
   },
   "outputs": [
    {
     "name": "stdout",
     "output_type": "stream",
     "text": [
      "Requirement already satisfied: mediapipe in c:\\users\\anton\\anaconda3\\lib\\site-packages (0.8.4.1)\n",
      "Requirement already satisfied: opencv-python in c:\\users\\anton\\anaconda3\\lib\\site-packages (4.5.2.52)\n",
      "Requirement already satisfied: attrs>=19.1.0 in c:\\users\\anton\\anaconda3\\lib\\site-packages (from mediapipe) (19.3.0)\n",
      "Requirement already satisfied: protobuf>=3.11.4 in c:\\users\\anton\\anaconda3\\lib\\site-packages (from mediapipe) (3.14.0)\n",
      "Requirement already satisfied: opencv-contrib-python in c:\\users\\anton\\anaconda3\\lib\\site-packages (from mediapipe) (4.5.1.48)\n",
      "Requirement already satisfied: absl-py in c:\\users\\anton\\anaconda3\\lib\\site-packages (from mediapipe) (0.12.0)\n",
      "Requirement already satisfied: six in c:\\users\\anton\\anaconda3\\lib\\site-packages (from mediapipe) (1.14.0)\n",
      "Requirement already satisfied: numpy in c:\\users\\anton\\anaconda3\\lib\\site-packages (from mediapipe) (1.18.1)\n",
      "Requirement already satisfied: wheel in c:\\users\\anton\\anaconda3\\lib\\site-packages (from mediapipe) (0.34.2)\n"
     ]
    }
   ],
   "source": [
    "!pip install mediapipe opencv-python"
   ]
  },
  {
   "cell_type": "code",
   "execution_count": 11,
   "metadata": {},
   "outputs": [],
   "source": [
    "import mediapipe as mp\n",
    "import cv2 as cv\n",
    "import numpy as np"
   ]
  },
  {
   "cell_type": "code",
   "execution_count": 12,
   "metadata": {},
   "outputs": [],
   "source": [
    "#setup mediapipe\n",
    "mp_drawing = mp.solutions.drawing_utils #help us to draw different detection from holistic model\n",
    "mp_holistic = mp.solutions.holistic #importing holistic model"
   ]
  },
  {
   "cell_type": "markdown",
   "metadata": {},
   "source": [
    "## Get realtime webcam feedback"
   ]
  },
  {
   "cell_type": "code",
   "execution_count": 15,
   "metadata": {},
   "outputs": [],
   "source": [
    "cap = cv.VideoCapture(0)\n",
    "while cap.isOpened():\n",
    "    ret, frame = cap.read()\n",
    "    cv.imshow('Webcam', frame)\n",
    "    \n",
    "    if cv.waitKey(10) & 0xFF == ord('q'):\n",
    "        break\n",
    "\n",
    "cap.release()\n",
    "cv.destroyAllWindows()"
   ]
  },
  {
   "cell_type": "markdown",
   "metadata": {},
   "source": [
    "## Make detections"
   ]
  },
  {
   "cell_type": "code",
   "execution_count": 18,
   "metadata": {},
   "outputs": [],
   "source": [
    "cap = cv.VideoCapture(0)\n",
    "# Initiate holistic model\n",
    "with mp_holistic.Holistic(min_detection_confidence=0.5, min_tracking_confidence=0.5) as holistic:\n",
    "    \n",
    "    while cap.isOpened():\n",
    "        ret, frame = cap.read()\n",
    "        \n",
    "        # Recolor Feed\n",
    "        image = cv.cvtColor(frame, cv.COLOR_BGR2RGB)\n",
    "        # Make Detections\n",
    "        results = holistic.process(image)\n",
    "        # print(results.face_landmarks)\n",
    "        \n",
    "        '''face_landmarks, pose_landmarks, left_hand_landmarks, right_hand_landmarks'''\n",
    "        \n",
    "        # Recolor image back to BGR for rendering\n",
    "        image = cv.cvtColor(image, cv.COLOR_RGB2BGR)\n",
    "        \n",
    "        # Draw face landmarks\n",
    "        mp_drawing.draw_landmarks(image, results.face_landmarks, mp_holistic.FACE_CONNECTIONS)\n",
    "        \n",
    "        # Right hand\n",
    "        mp_drawing.draw_landmarks(image, results.right_hand_landmarks, mp_holistic.HAND_CONNECTIONS)\n",
    "\n",
    "        # Left Hand\n",
    "        mp_drawing.draw_landmarks(image, results.left_hand_landmarks, mp_holistic.HAND_CONNECTIONS)\n",
    "\n",
    "        # Pose Detections\n",
    "        mp_drawing.draw_landmarks(image, results.pose_landmarks, mp_holistic.POSE_CONNECTIONS)\n",
    "                        \n",
    "        cv.imshow('Webcam', image)\n",
    "\n",
    "        if cv.waitKey(10) & 0xFF == ord('q'):\n",
    "            break\n",
    "\n",
    "cap.release()\n",
    "cv.destroyAllWindows()"
   ]
  },
  {
   "cell_type": "markdown",
   "metadata": {},
   "source": [
    "## Apply styling"
   ]
  },
  {
   "cell_type": "code",
   "execution_count": 72,
   "metadata": {},
   "outputs": [],
   "source": [
    "cap = cv.VideoCapture(0)\n",
    "\n",
    "#save the video\n",
    "width= int(cap.get(cv.CAP_PROP_FRAME_WIDTH))\n",
    "height= int(cap.get(cv.CAP_PROP_FRAME_HEIGHT))\n",
    "out= cv.VideoWriter('detection.mp4', cv.VideoWriter_fourcc(*'XVID'), 10, (width,height))\n",
    "\n",
    "# Initiate holistic model\n",
    "with mp_holistic.Holistic(min_detection_confidence=0.5, min_tracking_confidence=0.5) as holistic:\n",
    "    \n",
    "    while cap.isOpened():\n",
    "        ret, frame = cap.read()\n",
    "        if ret:\n",
    "\n",
    "            # Recolor Feed\n",
    "            image = cv.cvtColor(frame, cv.COLOR_BGR2RGB)\n",
    "            \n",
    "\n",
    "            # Make Detections\n",
    "            results = holistic.process(image)\n",
    "            # print(results.face_landmarks)\n",
    "\n",
    "            '''face_landmarks, pose_landmarks, left_hand_landmarks, right_hand_landmarks'''\n",
    "\n",
    "            # Recolor image back to BGR for rendering\n",
    "            image = cv.cvtColor(image, cv.COLOR_RGB2BGR)\n",
    "\n",
    "            # Draw face landmarks\n",
    "            mp_drawing.draw_landmarks(image, results.face_landmarks, mp_holistic.FACE_CONNECTIONS,\n",
    "                                     mp_drawing.DrawingSpec(color=(0,0,0), thickness=1, circle_radius=1), #dots color\n",
    "                                     mp_drawing.DrawingSpec(color=(0,0,255), thickness=1, circle_radius=1)) #join color\n",
    "\n",
    "            # Right hand\n",
    "            mp_drawing.draw_landmarks(image, results.right_hand_landmarks, mp_holistic.HAND_CONNECTIONS,\n",
    "                                     mp_drawing.DrawingSpec(color=(0,255,0), thickness=2, circle_radius=2), #dots color\n",
    "                                     mp_drawing.DrawingSpec(color=(255,0,0), thickness=2, circle_radius=2)) #join color\n",
    "\n",
    "            # Left Hand\n",
    "            mp_drawing.draw_landmarks(image, results.left_hand_landmarks, mp_holistic.HAND_CONNECTIONS,\n",
    "                                     mp_drawing.DrawingSpec(color=(0,255,0), thickness=2, circle_radius=2), #dots color\n",
    "                                     mp_drawing.DrawingSpec(color=(255,0,0), thickness=2, circle_radius=2)) #join color\n",
    "\n",
    "            # Pose Detections\n",
    "            mp_drawing.draw_landmarks(image, results.pose_landmarks, mp_holistic.POSE_CONNECTIONS,\n",
    "                                     mp_drawing.DrawingSpec(color=(245,117,66), thickness=2, circle_radius=4), #dots color\n",
    "                                     mp_drawing.DrawingSpec(color=(245,245,245), thickness=2, circle_radius=2)) #join color\n",
    "\n",
    "\n",
    "            out.write(image)\n",
    "            cv.imshow('Webcam', image)\n",
    "\n",
    "            if cv.waitKey(10) & 0xFF == ord('q'):\n",
    "                break\n",
    "        else:\n",
    "            break\n",
    "            \n",
    "\n",
    "cap.release()\n",
    "out.release()\n",
    "cv.destroyAllWindows()"
   ]
  },
  {
   "cell_type": "code",
   "execution_count": null,
   "metadata": {},
   "outputs": [],
   "source": []
  }
 ],
 "metadata": {
  "kernelspec": {
   "display_name": "Python 3",
   "language": "python",
   "name": "python3"
  },
  "language_info": {
   "codemirror_mode": {
    "name": "ipython",
    "version": 3
   },
   "file_extension": ".py",
   "mimetype": "text/x-python",
   "name": "python",
   "nbconvert_exporter": "python",
   "pygments_lexer": "ipython3",
   "version": "3.7.6"
  }
 },
 "nbformat": 4,
 "nbformat_minor": 4
}
